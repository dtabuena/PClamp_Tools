{
  "nbformat": 4,
  "nbformat_minor": 0,
  "metadata": {
    "colab": {
      "name": "fun_math.ipynb",
      "provenance": [],
      "authorship_tag": "ABX9TyPqDqfzfbBarM6tMS+Mx6wd",
      "include_colab_link": true
    },
    "kernelspec": {
      "name": "python3",
      "display_name": "Python 3"
    },
    "language_info": {
      "name": "python"
    }
  },
  "cells": [
    {
      "cell_type": "markdown",
      "metadata": {
        "id": "view-in-github",
        "colab_type": "text"
      },
      "source": [
        "<a href=\"https://colab.research.google.com/github/dtabuena/EphysLib/blob/main/fun_math.ipynb\" target=\"_parent\"><img src=\"https://colab.research.google.com/assets/colab-badge.svg\" alt=\"Open In Colab\"/></a>"
      ]
    },
    {
      "cell_type": "code",
      "execution_count": null,
      "metadata": {
        "id": "QcQhUSrSvnmJ"
      },
      "outputs": [],
      "source": [
        "################# Math ######################\n",
        "import math\n",
        "\n",
        "\n",
        "def movmean(x, w):\n",
        "    'A moving mean filter'\n",
        "    w = int(w)\n",
        "    # plt.plot(np.arange(len(x)) - int(len(x)/2), x)\n",
        "    if len(x) < w: w = len(x)\n",
        "    px = np.pad(x,int(np.ceil((w-1)/2)),'edge') \n",
        "    if len(px)-len(x) == w: px = px[0:-1]\n",
        "    conv = np.convolve(px, np.ones(w), 'valid') / w\n",
        "    return conv\n",
        "\n",
        "def mono_exp(time, peak, tau, ss):\n",
        "    'A single exponential decay function'\n",
        "    return (peak * np.exp(-time / (tau)) + ss)\n",
        "\n",
        "def binary_exp(time, amp_1, amp_2, tau_1, tau_2, ss):\n",
        "    'A double exponential decay function'\n",
        "    return (amp_1 * np.exp(-time /tau_1)) + (amp_2 * np.exp(-time / tau_2))  + ss\n",
        "\n",
        "\n",
        "def rms_noise(x):\n",
        "    return np.sqrt(    np.sum((x-x.mean())**2)/len(x)    )   "
      ]
    }
  ]
}